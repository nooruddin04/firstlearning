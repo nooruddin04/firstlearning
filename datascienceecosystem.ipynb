{
 "cells": [
  {
   "cell_type": "markdown",
   "id": "9317c8ec-2715-4b9e-b381-409b1e8433e9",
   "metadata": {},
   "source": [
    "# Data science tools and ecosystem"
   ]
  },
  {
   "cell_type": "markdown",
   "id": "7702738d-2181-4a81-8f4c-fa62b7ffa024",
   "metadata": {},
   "source": [
    "Some of the popular data science languages are\n",
    "1. R\n",
    "2. Python\n",
    "3. C++"
   ]
  },
  {
   "cell_type": "markdown",
   "id": "0d369c14-1c3a-437f-b455-6049895641c1",
   "metadata": {},
   "source": [
    "**Objectives**\n",
    "+ Data science languages\n",
    "+ Data science tools\n",
    "+ Conversion"
   ]
  },
  {
   "cell_type": "markdown",
   "id": "85eed5ff-90e9-4440-8b43-e6387d015e65",
   "metadata": {},
   "source": [
    "In this notebook, data science tools and ecosystem are summarised"
   ]
  },
  {
   "cell_type": "markdown",
   "id": "9f741cee-d03d-419c-b5a9-249e1c87f5d5",
   "metadata": {},
   "source": [
    "Some of the commonly used data science libraries are\n",
    "1. GGplot\n",
    "2. Dataset\n",
    "3. CSV"
   ]
  },
  {
   "cell_type": "markdown",
   "id": "f2c41e86-cee6-4972-893d-3c632d881cf3",
   "metadata": {},
   "source": [
    "| Data science tools|\n",
    "|---|\n",
    "|RStudio|\n",
    "|Jupyter notebook|\n",
    "|Anaconoda navigator|"
   ]
  },
  {
   "cell_type": "markdown",
   "id": "e6e0e73e-612c-4970-8605-474bbcdb3cdc",
   "metadata": {},
   "source": [
    "### Below are a few examples of evaluating arithmetic expressions in Python.\n"
   ]
  },
  {
   "cell_type": "code",
   "execution_count": 2,
   "id": "82ae7598-0f2c-407c-a473-67e4aaf6a5ad",
   "metadata": {},
   "outputs": [
    {
     "data": {
      "text/plain": [
       "17"
      ]
     },
     "execution_count": 2,
     "metadata": {},
     "output_type": "execute_result"
    }
   ],
   "source": [
    "#This a simple arithmetic expression to mutiply then add integer\n",
    "(3*4)+5"
   ]
  },
  {
   "cell_type": "code",
   "execution_count": 3,
   "id": "b04dfc92-1652-4980-bd4e-3d7b1cadaa38",
   "metadata": {},
   "outputs": [
    {
     "data": {
      "text/plain": [
       "3.3333333333333335"
      ]
     },
     "execution_count": 3,
     "metadata": {},
     "output_type": "execute_result"
    }
   ],
   "source": [
    "#This will convert 200 minutes to hours by diving by 60\n",
    "200/60"
   ]
  },
  {
   "cell_type": "markdown",
   "id": "34a2cec9-888e-477a-8769-bb27158b1374",
   "metadata": {},
   "source": [
    "## Author\n",
    "Nooruddin Kapadia"
   ]
  },
  {
   "cell_type": "code",
   "execution_count": null,
   "id": "ef07b43e-a68b-45e2-ae3c-451e02d0dc7f",
   "metadata": {},
   "outputs": [],
   "source": []
  }
 ],
 "metadata": {
  "kernelspec": {
   "display_name": "Python 3 (ipykernel)",
   "language": "python",
   "name": "python3"
  },
  "language_info": {
   "codemirror_mode": {
    "name": "ipython",
    "version": 3
   },
   "file_extension": ".py",
   "mimetype": "text/x-python",
   "name": "python",
   "nbconvert_exporter": "python",
   "pygments_lexer": "ipython3",
   "version": "3.10.9"
  }
 },
 "nbformat": 4,
 "nbformat_minor": 5
}
